{
 "cells": [
  {
   "cell_type": "markdown",
   "metadata": {},
   "source": [
    "## Base Model TF-IDF Vectorizer"
   ]
  },
  {
   "cell_type": "code",
   "execution_count": null,
   "metadata": {
    "collapsed": false,
    "pycharm": {
     "name": "#%%\n"
    }
   },
   "outputs": [],
   "source": [
    "import pandas as pd\n",
    "import pathlib\n",
    "from sklearn.feature_extraction.text import TfidfVectorizer\n",
    "from sklearn.ensemble import RandomForestClassifier\n",
    "from sklearn.model_selection import train_test_split\n",
    "from sklearn.metrics import accuracy_score\n",
    "from xgboost import XGBClassifier"
   ]
  },
  {
   "cell_type": "markdown",
   "metadata": {},
   "source": [
    "#### import data"
   ]
  },
  {
   "cell_type": "code",
   "execution_count": null,
   "metadata": {
    "collapsed": false,
    "pycharm": {
     "name": "#%%\n"
    }
   },
   "outputs": [],
   "source": [
    "train = pd.read_csv(str(pathlib.Path().resolve())+\"/data\" + \"/train.csv\", encoding=\"utf-8\")\n",
    "test = pd.read_csv(str(pathlib.Path().resolve())+\"/data\" + \"/test.csv\", encoding=\"utf-8\")\n",
    "valid = pd.read_csv(str(pathlib.Path().resolve())+\"/data\" + \"/valid.csv\", encoding=\"utf-8\")\n",
    "train.shape, test.shape, valid.shape"
   ]
  },
  {
   "cell_type": "markdown",
   "metadata": {},
   "source": [
    "#### generate train data and labels Y"
   ]
  },
  {
   "cell_type": "code",
   "execution_count": null,
   "metadata": {},
   "outputs": [],
   "source": [
    "df = pd.concat([train, valid], axis=0)\n",
    "df[\"premise\"] = df[\"premise\"].str.lower()\n",
    "df[\"hypothesis\"] = df[\"hypothesis\"].str.lower()\n",
    "train_Y = df['label']\n",
    "train_Y.shape"
   ]
  },
  {
   "cell_type": "markdown",
   "metadata": {},
   "source": [
    "#### TF-IDF Vectorizer"
   ]
  },
  {
   "cell_type": "code",
   "execution_count": null,
   "metadata": {},
   "outputs": [],
   "source": [
    "vectorizer = TfidfVectorizer()\n",
    "train_tf_idf_premise_features = vectorizer.fit_transform(df['premise']).toarray()\n",
    "train_tf_idf_hypothesis_features = vectorizer.fit_transform(df['hypothesis']).toarray()\n",
    "train_tf_idf_premise = pd.DataFrame(train_tf_idf_premise_features)\n",
    "train_tf_idf_hypothesis = pd.DataFrame(train_tf_idf_hypothesis_features)\n",
    "\n",
    "train = pd.merge(train_tf_idf_premise, train_tf_idf_hypothesis, left_index=True, right_index=True)\n",
    "train.head()"
   ]
  },
  {
   "cell_type": "markdown",
   "metadata": {},
   "source": [
    "#### Train-Test split"
   ]
  },
  {
   "cell_type": "code",
   "execution_count": null,
   "metadata": {},
   "outputs": [],
   "source": [
    "X_train, X_test, y_train, y_test = train_test_split(train, train_Y, test_size=0.2, random_state = 42)"
   ]
  },
  {
   "cell_type": "markdown",
   "metadata": {},
   "source": [
    "### Random Forest Classifier by scikit learn"
   ]
  },
  {
   "cell_type": "code",
   "execution_count": null,
   "metadata": {},
   "outputs": [],
   "source": [
    "clf_model = RandomForestClassifier(n_estimators = 20000, max_depth=10, random_state = 42, n_jobs=-1, verbose=1)\n",
    "clf_model.fit(X_train, y_train)\n",
    "RandomForestClassifier_prediction = clf_model.predict(X_test)"
   ]
  },
  {
   "cell_type": "code",
   "execution_count": null,
   "metadata": {},
   "outputs": [],
   "source": [
    "y_pred = clf_model.predict(X_test)\n",
    "print(\"Accuracy: \", accuracy_score(y_test, y_pred))"
   ]
  },
  {
   "cell_type": "markdown",
   "metadata": {},
   "source": [
    "### XGBoost Classifier"
   ]
  },
  {
   "cell_type": "code",
   "execution_count": null,
   "metadata": {},
   "outputs": [],
   "source": [
    "model = XGBClassifier(objective=\"multi:softprob\", max_depth=4, num_class=3, eval_metric='merror',\n",
    "                        learning_rate=0.3, n_jobs=8,tree_method=\"hist\", n_estimators=200, seed = 42)\n",
    "model.fit(X_train, y_train, eval_set=[(X_train, y_train)])"
   ]
  },
  {
   "cell_type": "code",
   "execution_count": null,
   "metadata": {},
   "outputs": [],
   "source": [
    "preds = model.predict(X_test)\n",
    "print(\"Accuracy: \", accuracy_score(y_test, preds))"
   ]
  }
 ],
 "metadata": {
  "kernelspec": {
   "display_name": "Python 3.10.8 ('venv_nlpproject')",
   "language": "python",
   "name": "python3"
  },
  "language_info": {
   "codemirror_mode": {
    "name": "ipython",
    "version": 3
   },
   "file_extension": ".py",
   "mimetype": "text/x-python",
   "name": "python",
   "nbconvert_exporter": "python",
   "pygments_lexer": "ipython3",
   "version": "3.10.8"
  },
  "vscode": {
   "interpreter": {
    "hash": "ba4de0cbf6b249968fea6dba2652198db427593e9e1c8fdd402188e881a69c50"
   }
  }
 },
 "nbformat": 4,
 "nbformat_minor": 0
}
