{
 "cells": [
  {
   "cell_type": "code",
   "execution_count": null,
   "metadata": {},
   "outputs": [],
   "source": [
    "import pandas as pd\n",
    "import pathlib\n",
    "from deep_translator import GoogleTranslator"
   ]
  },
  {
   "cell_type": "code",
   "execution_count": null,
   "metadata": {},
   "outputs": [],
   "source": [
    "train = pd.read_csv(str(pathlib.Path().resolve())+\"/data\" + \"/train.csv\", encoding=\"utf-8\")\n",
    "test = pd.read_csv(str(pathlib.Path().resolve())+\"/data\" + \"/test.csv\", encoding=\"utf-8\")\n",
    "valid = pd.read_csv(str(pathlib.Path().resolve())+\"/data\" + \"/valid.csv\", encoding=\"utf-8\")\n",
    "train.shape, test.shape, valid.shape"
   ]
  },
  {
   "cell_type": "code",
   "execution_count": null,
   "metadata": {},
   "outputs": [],
   "source": [
    "train.head()"
   ]
  },
  {
   "cell_type": "markdown",
   "metadata": {},
   "source": [
    "#### Translation"
   ]
  },
  {
   "cell_type": "code",
   "execution_count": null,
   "metadata": {},
   "outputs": [],
   "source": [
    "def translate(text):\n",
    "    try:\n",
    "        return GoogleTranslator(source='auto', target='en').translate(text)\n",
    "    except:\n",
    "        print(\"Error: \", text)\n",
    "        return text"
   ]
  },
  {
   "cell_type": "code",
   "execution_count": null,
   "metadata": {},
   "outputs": [],
   "source": [
    "def df_translate(df):\n",
    "    df.loc[:, \"premise\"] = df.loc[:, \"premise\"].apply(translate)\n",
    "    df.loc[:, \"hypothesis\"] = df.loc[:, \"hypothesis\"].apply(translate)\n",
    "    df.lang_abv = \"en\"\n",
    "    df.language = \"English\"\n",
    "    return df"
   ]
  },
  {
   "cell_type": "code",
   "execution_count": null,
   "metadata": {},
   "outputs": [],
   "source": [
    "valid = df_translate(valid)\n",
    "valid.to_csv(str(pathlib.Path().resolve())+\"/data\" + \"/valid_translated.csv\", index=False)"
   ]
  },
  {
   "cell_type": "code",
   "execution_count": null,
   "metadata": {},
   "outputs": [],
   "source": [
    "test = df_translate(test)\n",
    "test.to_csv(str(pathlib.Path().resolve())+\"/data\" + \"/valid_translated.csv\", index=False)"
   ]
  }
 ],
 "metadata": {
  "kernelspec": {
   "display_name": "Python 3.10.8 ('venv_nlpproject')",
   "language": "python",
   "name": "python3"
  },
  "language_info": {
   "codemirror_mode": {
    "name": "ipython",
    "version": 3
   },
   "file_extension": ".py",
   "mimetype": "text/x-python",
   "name": "python",
   "nbconvert_exporter": "python",
   "pygments_lexer": "ipython3",
   "version": "3.10.8"
  },
  "orig_nbformat": 4,
  "vscode": {
   "interpreter": {
    "hash": "ba4de0cbf6b249968fea6dba2652198db427593e9e1c8fdd402188e881a69c50"
   }
  }
 },
 "nbformat": 4,
 "nbformat_minor": 2
}
