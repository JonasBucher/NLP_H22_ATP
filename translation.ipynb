{
 "cells": [
  {
   "attachments": {},
   "cell_type": "markdown",
   "metadata": {},
   "source": [
    "### Translator to translate text to english for english models"
   ]
  },
  {
   "cell_type": "code",
   "execution_count": null,
   "metadata": {},
   "outputs": [],
   "source": [
    "import pandas as pd\n",
    "import pathlib\n",
    "from deep_translator import GoogleTranslator"
   ]
  },
  {
   "cell_type": "code",
   "execution_count": null,
   "metadata": {},
   "outputs": [],
   "source": [
    "train = pd.read_csv(str(pathlib.Path().resolve())+\"/data\" + \"/train.csv\", encoding=\"utf-8\")\n",
    "test = pd.read_csv(str(pathlib.Path().resolve())+\"/data\" + \"/test.csv\", encoding=\"utf-8\")\n",
    "valid = pd.read_csv(str(pathlib.Path().resolve())+\"/data\" + \"/valid.csv\", encoding=\"utf-8\")\n",
    "train.shape, test.shape, valid.shape"
   ]
  },
  {
   "cell_type": "markdown",
   "metadata": {},
   "source": [
    "#### Translation"
   ]
  },
  {
   "cell_type": "code",
   "execution_count": null,
   "metadata": {},
   "outputs": [],
   "source": [
    "def translate(text):\n",
    "    try:\n",
    "        return GoogleTranslator(source='auto', target='en').translate(text)\n",
    "    except:\n",
    "        print(\"Error: \", text)\n",
    "        return text"
   ]
  },
  {
   "cell_type": "code",
   "execution_count": null,
   "metadata": {},
   "outputs": [],
   "source": [
    "def df_translate(df):\n",
    "    df.loc[:, \"premise\"] = df.loc[:, \"premise\"].apply(translate)\n",
    "    df.loc[:, \"hypothesis\"] = df.loc[:, \"hypothesis\"].apply(translate)\n",
    "    df.lang_abv = \"en\"\n",
    "    df.language = \"English\"\n",
    "    return df"
   ]
  },
  {
   "attachments": {},
   "cell_type": "markdown",
   "metadata": {},
   "source": [
    "#### translate and save train & valid set"
   ]
  },
  {
   "cell_type": "code",
   "execution_count": 5,
   "metadata": {},
   "outputs": [],
   "source": [
    "valid = df_translate(valid)\n",
    "valid.to_csv(str(pathlib.Path().resolve())+\"/data\" + \"/valid_translated.csv\", index=False)"
   ]
  },
  {
   "cell_type": "code",
   "execution_count": null,
   "metadata": {},
   "outputs": [],
   "source": [
    "test = df_translate(test)\n",
    "test.to_csv(str(pathlib.Path().resolve())+\"/data\" + \"/test_translated.csv\", index=False)"
   ]
  }
 ],
 "metadata": {
  "kernelspec": {
   "display_name": "nlpproject",
   "language": "python",
   "name": "python3"
  },
  "language_info": {
   "codemirror_mode": {
    "name": "ipython",
    "version": 3
   },
   "file_extension": ".py",
   "mimetype": "text/x-python",
   "name": "python",
   "nbconvert_exporter": "python",
   "pygments_lexer": "ipython3",
   "version": "3.10.8"
  },
  "orig_nbformat": 4,
  "vscode": {
   "interpreter": {
    "hash": "1963e4c1efbc08bf37151025a3a70fa62b76f4594615bf06e73f232accade162"
   }
  }
 },
 "nbformat": 4,
 "nbformat_minor": 2
}
